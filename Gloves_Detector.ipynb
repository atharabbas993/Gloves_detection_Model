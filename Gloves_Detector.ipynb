{
  "nbformat": 4,
  "nbformat_minor": 0,
  "metadata": {
    "colab": {
      "private_outputs": true,
      "provenance": [],
      "cell_execution_strategy": "setup",
      "gpuType": "T4",
      "authorship_tag": "ABX9TyOB1JTsi4V49MKg3MBwSh2U",
      "include_colab_link": true
    },
    "kernelspec": {
      "name": "python3",
      "display_name": "Python 3"
    },
    "language_info": {
      "name": "python"
    },
    "accelerator": "GPU"
  },
  "cells": [
    {
      "cell_type": "markdown",
      "metadata": {
        "id": "view-in-github",
        "colab_type": "text"
      },
      "source": [
        "<a href=\"https://colab.research.google.com/github/atharabbas993/Gloves_detection_Model/blob/main/Gloves_Detector.ipynb\" target=\"_parent\"><img src=\"https://colab.research.google.com/assets/colab-badge.svg\" alt=\"Open In Colab\"/></a>"
      ]
    },
    {
      "cell_type": "markdown",
      "source": [
        "# Install YOLOvX"
      ],
      "metadata": {
        "id": "uRCznWWkpyhj"
      }
    },
    {
      "cell_type": "code",
      "source": [
        "!pip install ultralytics"
      ],
      "metadata": {
        "id": "x7LPEla5p5SX"
      },
      "execution_count": null,
      "outputs": []
    },
    {
      "cell_type": "markdown",
      "source": [
        "# Unzip Folder"
      ],
      "metadata": {
        "id": "fk-sSONaqLso"
      }
    },
    {
      "cell_type": "code",
      "source": [
        "import zipfile\n",
        "import os\n",
        "\n",
        "zip_path = \"/content/gloves.v3i.yolov8.zip\"  # ZIP file ka naam\n",
        "extract_path = \"dataset\"           # Jahan extract karna hai\n",
        "\n",
        "with zipfile.ZipFile(zip_path, 'r') as zip_ref:\n",
        "    zip_ref.extractall(extract_path)\n",
        "\n",
        "print(\"✅ Dataset successfully unzipped!\")\n"
      ],
      "metadata": {
        "id": "DcYGWQWFqOQo"
      },
      "execution_count": null,
      "outputs": []
    },
    {
      "cell_type": "markdown",
      "source": [
        "# Load Model"
      ],
      "metadata": {
        "id": "ESBjaOF9p79M"
      }
    },
    {
      "cell_type": "code",
      "source": [
        "\n",
        "from ultralytics import YOLO\n",
        "\n",
        "# Load the YOLOv8s model (small version)\n",
        "model = YOLO(\"yolov8s.pt\")\n"
      ],
      "metadata": {
        "id": "dcYHFQvWp_6f"
      },
      "execution_count": null,
      "outputs": []
    },
    {
      "cell_type": "markdown",
      "source": [
        "# Train Model"
      ],
      "metadata": {
        "id": "BEQ4cNiXrBxH"
      }
    },
    {
      "cell_type": "code",
      "source": [
        "\n",
        "# Train the model with early stopping\n",
        "results = model.train(\n",
        "    data=\"/content/dataset/data.yaml\",\n",
        "    epochs=100,\n",
        "    imgsz=640,\n",
        "    batch=16,\n",
        "    name=\"train_yolov8s\",\n",
        "    patience=5  # Stop training if no improvement for 5 epochs\n",
        ")\n",
        "\n",
        "print(\"Training completed!\")\n",
        "print(results)"
      ],
      "metadata": {
        "id": "BmkkJOLMrCkX"
      },
      "execution_count": null,
      "outputs": []
    },
    {
      "cell_type": "markdown",
      "source": [
        "# Load Trained Model"
      ],
      "metadata": {
        "id": "ONuap-EBuQ7X"
      }
    },
    {
      "cell_type": "code",
      "source": [
        "from ultralytics import YOLO\n",
        "\n",
        "# Load your trained model\n",
        "model = YOLO(r'/content/runs/detect/train_yolov8s/weights/best.pt')"
      ],
      "metadata": {
        "id": "FIp1LRK_uU2n"
      },
      "execution_count": null,
      "outputs": []
    },
    {
      "cell_type": "markdown",
      "source": [
        "# Prediction"
      ],
      "metadata": {
        "id": "EnPSyNhruzAv"
      }
    },
    {
      "cell_type": "code",
      "source": [
        "# Run prediction\n",
        "results = model.predict(source=r'/content/image.png', save=True, save_txt=True, conf=0.8)\n",
        "\n",
        "print(\"✅ Inference complete. Results saved in 'runs/detect/predict'\")"
      ],
      "metadata": {
        "id": "M5konw1duzxQ"
      },
      "execution_count": null,
      "outputs": []
    },
    {
      "cell_type": "code",
      "source": [
        "from google.colab import files\n",
        "files.download(r'/content/runs/detect/train_yolov8s/weights/best.pt')\n"
      ],
      "metadata": {
        "id": "yapsA3EwvhjO"
      },
      "execution_count": null,
      "outputs": []
    }
  ]
}